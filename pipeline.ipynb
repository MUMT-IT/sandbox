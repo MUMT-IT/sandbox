{
 "cells": [
  {
   "cell_type": "code",
   "execution_count": 1,
   "metadata": {},
   "outputs": [],
   "source": [
    "import pandas"
   ]
  },
  {
   "cell_type": "code",
   "execution_count": 5,
   "metadata": {},
   "outputs": [],
   "source": [
    "data = pandas.read_excel('sample_fundingdata.xlsx', sheet_name='ResearchwithFund')"
   ]
  },
  {
   "cell_type": "code",
   "execution_count": 6,
   "metadata": {},
   "outputs": [
    {
     "data": {
      "text/html": [
       "<div>\n",
       "<style scoped>\n",
       "    .dataframe tbody tr th:only-of-type {\n",
       "        vertical-align: middle;\n",
       "    }\n",
       "\n",
       "    .dataframe tbody tr th {\n",
       "        vertical-align: top;\n",
       "    }\n",
       "\n",
       "    .dataframe thead th {\n",
       "        text-align: right;\n",
       "    }\n",
       "</style>\n",
       "<table border=\"1\" class=\"dataframe\">\n",
       "  <thead>\n",
       "    <tr style=\"text-align: right;\">\n",
       "      <th></th>\n",
       "      <th>research_name_th</th>\n",
       "      <th>research_name_en</th>\n",
       "      <th>research_field</th>\n",
       "      <th>research_budget_thisyear</th>\n",
       "      <th>research_budget_throughtout</th>\n",
       "      <th>research_startdate</th>\n",
       "      <th>research_enddate</th>\n",
       "      <th>duration</th>\n",
       "      <th>research contract</th>\n",
       "    </tr>\n",
       "  </thead>\n",
       "  <tbody>\n",
       "    <tr>\n",
       "      <th>0</th>\n",
       "      <td>มาตรฐานอาหารและผลิตภัณฑ์แปรรูปอาหารปลอดภัย</td>\n",
       "      <td>NaN</td>\n",
       "      <td>biochemistry</td>\n",
       "      <td>2000000</td>\n",
       "      <td>2000000</td>\n",
       "      <td>2016-01-10 00:00:00</td>\n",
       "      <td>9/30/2017</td>\n",
       "      <td>con</td>\n",
       "      <td>False</td>\n",
       "    </tr>\n",
       "    <tr>\n",
       "      <th>1</th>\n",
       "      <td>การศึกษาประสิทธิภาพของสารออกฤทธิ์ทางชีวภาพ 8-h...</td>\n",
       "      <td>NaN</td>\n",
       "      <td>biochemistry</td>\n",
       "      <td>700000</td>\n",
       "      <td>1400000</td>\n",
       "      <td>2016-01-10 00:00:00</td>\n",
       "      <td>9/30/2018</td>\n",
       "      <td>con</td>\n",
       "      <td>False</td>\n",
       "    </tr>\n",
       "    <tr>\n",
       "      <th>2</th>\n",
       "      <td>การศึกษาผลของผักคราดหัวแหวน(Spilantheseacmella...</td>\n",
       "      <td>NaN</td>\n",
       "      <td>biochemistry</td>\n",
       "      <td>700000</td>\n",
       "      <td>1660500</td>\n",
       "      <td>2016-01-10 00:00:00</td>\n",
       "      <td>9/30/2018</td>\n",
       "      <td>con</td>\n",
       "      <td>False</td>\n",
       "    </tr>\n",
       "    <tr>\n",
       "      <th>3</th>\n",
       "      <td>การพัฒนาเซ็นเซอร์บนกระดาษสำหรับตรวจคัดกรองอย่า...</td>\n",
       "      <td>NaN</td>\n",
       "      <td>biochemistry</td>\n",
       "      <td>950000</td>\n",
       "      <td>3102440</td>\n",
       "      <td>2016-01-10 00:00:00</td>\n",
       "      <td>9/30/2019</td>\n",
       "      <td>con</td>\n",
       "      <td>False</td>\n",
       "    </tr>\n",
       "    <tr>\n",
       "      <th>4</th>\n",
       "      <td>การศึกษาหาการกลายพันธุ์ของ neuraminidase ของเช...</td>\n",
       "      <td>NaN</td>\n",
       "      <td>biochemistry</td>\n",
       "      <td>250000</td>\n",
       "      <td>250000</td>\n",
       "      <td>6/20/2016</td>\n",
       "      <td>6/19/2016</td>\n",
       "      <td>con</td>\n",
       "      <td>False</td>\n",
       "    </tr>\n",
       "  </tbody>\n",
       "</table>\n",
       "</div>"
      ],
      "text/plain": [
       "                                    research_name_th research_name_en  \\\n",
       "0         มาตรฐานอาหารและผลิตภัณฑ์แปรรูปอาหารปลอดภัย              NaN   \n",
       "1  การศึกษาประสิทธิภาพของสารออกฤทธิ์ทางชีวภาพ 8-h...              NaN   \n",
       "2  การศึกษาผลของผักคราดหัวแหวน(Spilantheseacmella...              NaN   \n",
       "3  การพัฒนาเซ็นเซอร์บนกระดาษสำหรับตรวจคัดกรองอย่า...              NaN   \n",
       "4  การศึกษาหาการกลายพันธุ์ของ neuraminidase ของเช...              NaN   \n",
       "\n",
       "  research_field  research_budget_thisyear  research_budget_throughtout  \\\n",
       "0   biochemistry                   2000000                      2000000   \n",
       "1   biochemistry                    700000                      1400000   \n",
       "2   biochemistry                    700000                      1660500   \n",
       "3   biochemistry                    950000                      3102440   \n",
       "4   biochemistry                    250000                       250000   \n",
       "\n",
       "    research_startdate research_enddate duration  research contract  \n",
       "0  2016-01-10 00:00:00        9/30/2017      con              False  \n",
       "1  2016-01-10 00:00:00        9/30/2018      con              False  \n",
       "2  2016-01-10 00:00:00        9/30/2018      con              False  \n",
       "3  2016-01-10 00:00:00        9/30/2019      con              False  \n",
       "4            6/20/2016        6/19/2016      con              False  "
      ]
     },
     "execution_count": 6,
     "metadata": {},
     "output_type": "execute_result"
    }
   ],
   "source": [
    "data.head()"
   ]
  },
  {
   "cell_type": "code",
   "execution_count": 19,
   "metadata": {},
   "outputs": [],
   "source": [
    "for index,row in data.iterrows():\n",
    "    # do whatever you want with data\n",
    "    break"
   ]
  },
  {
   "cell_type": "code",
   "execution_count": 20,
   "metadata": {},
   "outputs": [
    {
     "data": {
      "text/plain": [
       "research_name_th               มาตรฐานอาหารและผลิตภัณฑ์แปรรูปอาหารปลอดภัย\n",
       "research_name_en                                                      NaN\n",
       "research_field                                               biochemistry\n",
       "research_budget_thisyear                                          2000000\n",
       "research_budget_throughtout                                       2000000\n",
       "research_startdate                                    2016-01-10 00:00:00\n",
       "research_enddate                                                9/30/2017\n",
       "duration                                                              con\n",
       "research contract                                                   False\n",
       "Name: 0, dtype: object"
      ]
     },
     "execution_count": 20,
     "metadata": {},
     "output_type": "execute_result"
    }
   ],
   "source": [
    "row"
   ]
  },
  {
   "cell_type": "code",
   "execution_count": 21,
   "metadata": {},
   "outputs": [
    {
     "data": {
      "text/plain": [
       "0"
      ]
     },
     "execution_count": 21,
     "metadata": {},
     "output_type": "execute_result"
    }
   ],
   "source": [
    "index"
   ]
  },
  {
   "cell_type": "code",
   "execution_count": 22,
   "metadata": {},
   "outputs": [
    {
     "data": {
      "text/plain": [
       "datetime.datetime(2016, 1, 10, 0, 0)"
      ]
     },
     "execution_count": 22,
     "metadata": {},
     "output_type": "execute_result"
    }
   ],
   "source": [
    "row['research_startdate']"
   ]
  },
  {
   "cell_type": "code",
   "execution_count": 15,
   "metadata": {},
   "outputs": [
    {
     "data": {
      "text/plain": [
       "datetime.datetime(2016, 1, 10, 0, 0)"
      ]
     },
     "execution_count": 15,
     "metadata": {},
     "output_type": "execute_result"
    }
   ],
   "source": [
    "row[1]['research_startdate']"
   ]
  },
  {
   "cell_type": "code",
   "execution_count": 16,
   "metadata": {},
   "outputs": [],
   "source": [
    "index, d = row"
   ]
  },
  {
   "cell_type": "code",
   "execution_count": 17,
   "metadata": {},
   "outputs": [
    {
     "data": {
      "text/plain": [
       "0"
      ]
     },
     "execution_count": 17,
     "metadata": {},
     "output_type": "execute_result"
    }
   ],
   "source": [
    "index"
   ]
  },
  {
   "cell_type": "code",
   "execution_count": 18,
   "metadata": {},
   "outputs": [
    {
     "data": {
      "text/plain": [
       "research_name_th               มาตรฐานอาหารและผลิตภัณฑ์แปรรูปอาหารปลอดภัย\n",
       "research_name_en                                                      NaN\n",
       "research_field                                               biochemistry\n",
       "research_budget_thisyear                                          2000000\n",
       "research_budget_throughtout                                       2000000\n",
       "research_startdate                                    2016-01-10 00:00:00\n",
       "research_enddate                                                9/30/2017\n",
       "duration                                                              con\n",
       "research contract                                                   False\n",
       "Name: 0, dtype: object"
      ]
     },
     "execution_count": 18,
     "metadata": {},
     "output_type": "execute_result"
    }
   ],
   "source": [
    "d"
   ]
  },
  {
   "cell_type": "code",
   "execution_count": null,
   "metadata": {},
   "outputs": [],
   "source": []
  }
 ],
 "metadata": {
  "kernelspec": {
   "display_name": "Python 2",
   "language": "python",
   "name": "python2"
  },
  "language_info": {
   "codemirror_mode": {
    "name": "ipython",
    "version": 2
   },
   "file_extension": ".py",
   "mimetype": "text/x-python",
   "name": "python",
   "nbconvert_exporter": "python",
   "pygments_lexer": "ipython2",
   "version": "2.7.10"
  }
 },
 "nbformat": 4,
 "nbformat_minor": 2
}
